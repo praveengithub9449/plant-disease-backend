{
 "cells": [
  {
   "cell_type": "code",
   "execution_count": 3,
   "id": "f3266621-23a3-410d-8573-7a24711a71d7",
   "metadata": {},
   "outputs": [
    {
     "name": "stdout",
     "output_type": "stream",
     "text": [
      "➤ raw shape: (2200, 10)\n",
      "➤ columns: ['N', 'P', 'K', 'temperature', 'humidity', 'ph', 'rainfall', 'label', 'latitude', 'longitude']\n"
     ]
    }
   ],
   "source": [
    "# Step 1: load / quick-clean / EDA\n",
    "import pandas as pd\n",
    "import numpy as np\n",
    "import matplotlib.pyplot as plt\n",
    "import seaborn as sns\n",
    "sns.set(style='whitegrid')\n",
    "\n",
    "# if your CSV is in the same folder as notebook\n",
    "PATH = \"final_dataset_cleaned.csv\"      \n",
    "CLEAN_OUT = \"final_dataset_cleaned_geo.csv\"\n",
    "\n",
    "# 1) load\n",
    "df = pd.read_csv(PATH)\n",
    "print(\"➤ raw shape:\", df.shape)\n",
    "print(\"➤ columns:\", df.columns.tolist())\n"
   ]
  },
  {
   "cell_type": "code",
   "execution_count": 5,
   "id": "7f2bca76-daa4-4b65-9c97-6bbc5e19dcc6",
   "metadata": {},
   "outputs": [
    {
     "name": "stdout",
     "output_type": "stream",
     "text": [
      "➤ classes found: ['apple', 'banana', 'blackgram', 'chickpea', 'coconut', 'coffee', 'cotton', 'grapes', 'jute', 'kidneybeans', 'lentil', 'maize', 'mango', 'mothbeans', 'mungbean', 'muskmelon', 'orange', 'papaya', 'pigeonpeas', 'pomegranate', 'rice', 'watermelon']\n",
      "➤ sample encoded targets: [ 8  4  6  9 14 11  8  4 10  2]\n",
      "✔ label encoder saved as crop_label_encoder.joblib\n",
      "Train size: (1760, 2)  Test size: (440, 2)\n"
     ]
    }
   ],
   "source": [
    "# Step 2: Encode target + Train/Test split\n",
    "from sklearn.model_selection import train_test_split\n",
    "from sklearn.preprocessing import LabelEncoder\n",
    "import joblib\n",
    "\n",
    "# columns\n",
    "lat_col = 'latitude'\n",
    "lon_col = 'longitude'\n",
    "crop_col = 'label'\n",
    "\n",
    "# Features (X) and target (y)\n",
    "X = df[[lat_col, lon_col]].copy()\n",
    "y = df[crop_col].copy()\n",
    "\n",
    "# Encode crop labels into integers\n",
    "label_encoder = LabelEncoder()\n",
    "y_encoded = label_encoder.fit_transform(y)\n",
    "\n",
    "print(\"➤ classes found:\", list(label_encoder.classes_))\n",
    "print(\"➤ sample encoded targets:\", y_encoded[:10])\n",
    "\n",
    "# Save encoder (important for later use in React Native app)\n",
    "joblib.dump(label_encoder, \"crop_label_encoder.joblib\")\n",
    "print(\"✔ label encoder saved as crop_label_encoder.joblib\")\n",
    "\n",
    "# Split train/test stratified (keeps crop distribution balanced)\n",
    "X_train, X_test, y_train, y_test = train_test_split(\n",
    "    X, y_encoded,\n",
    "    test_size=0.2,\n",
    "    random_state=42,\n",
    "    stratify=y_encoded\n",
    ")\n",
    "\n",
    "print(\"Train size:\", X_train.shape, \" Test size:\", X_test.shape)\n"
   ]
  },
  {
   "cell_type": "code",
   "execution_count": 7,
   "id": "276df1de-7ccd-47aa-b50c-caaaed87fcbf",
   "metadata": {},
   "outputs": [
    {
     "name": "stdout",
     "output_type": "stream",
     "text": [
      "✔ RandomForest Trained\n",
      "Top-1 Accuracy: 0.6682\n",
      "Top-3 Accuracy: 0.9500\n",
      "\n",
      "Classification Report:\n",
      "               precision    recall  f1-score   support\n",
      "\n",
      "       apple       1.00      1.00      1.00        20\n",
      "      banana       0.73      0.40      0.52        20\n",
      "   blackgram       1.00      0.60      0.75        20\n",
      "    chickpea       0.68      0.75      0.71        20\n",
      "     coconut       0.80      1.00      0.89        20\n",
      "      coffee       0.81      0.85      0.83        20\n",
      "      cotton       1.00      0.35      0.52        20\n",
      "      grapes       0.18      0.20      0.19        20\n",
      "        jute       0.87      1.00      0.93        20\n",
      " kidneybeans       1.00      0.70      0.82        20\n",
      "      lentil       0.61      0.85      0.71        20\n",
      "       maize       1.00      0.85      0.92        20\n",
      "       mango       0.68      0.85      0.76        20\n",
      "   mothbeans       0.52      0.80      0.63        20\n",
      "    mungbean       0.44      0.75      0.56        20\n",
      "   muskmelon       1.00      0.05      0.10        20\n",
      "      orange       0.57      0.65      0.60        20\n",
      "      papaya       1.00      0.55      0.71        20\n",
      "  pigeonpeas       0.53      0.40      0.46        20\n",
      " pomegranate       0.42      0.65      0.51        20\n",
      "        rice       0.58      0.70      0.64        20\n",
      "  watermelon       0.65      0.75      0.70        20\n",
      "\n",
      "    accuracy                           0.67       440\n",
      "   macro avg       0.73      0.67      0.66       440\n",
      "weighted avg       0.73      0.67      0.66       440\n",
      "\n",
      "✔ model saved as crop_rf_model.joblib\n",
      "\n",
      "Example prediction for: (26.1445, 91.7362)\n",
      "[('orange', 1.0), ('watermelon', 0.0), ('kidneybeans', 0.0)]\n"
     ]
    },
    {
     "name": "stderr",
     "output_type": "stream",
     "text": [
      "C:\\Users\\LENOVO\\anaconda3\\Lib\\site-packages\\sklearn\\base.py:493: UserWarning: X does not have valid feature names, but RandomForestClassifier was fitted with feature names\n",
      "  warnings.warn(\n"
     ]
    }
   ],
   "source": [
    "# Step 3: Train RandomForest & build top-3 crop predictor\n",
    "from sklearn.ensemble import RandomForestClassifier\n",
    "from sklearn.metrics import accuracy_score, classification_report, top_k_accuracy_score\n",
    "import numpy as np\n",
    "import joblib\n",
    "\n",
    "# Train model\n",
    "rf = RandomForestClassifier(\n",
    "    n_estimators=300,\n",
    "    max_depth=None,\n",
    "    random_state=42,\n",
    "    n_jobs=-1\n",
    ")\n",
    "rf.fit(X_train, y_train)\n",
    "\n",
    "# Evaluate accuracy\n",
    "y_pred = rf.predict(X_test)\n",
    "acc = accuracy_score(y_test, y_pred)\n",
    "top3_acc = top_k_accuracy_score(y_test, rf.predict_proba(X_test), k=3)\n",
    "\n",
    "print(\"✔ RandomForest Trained\")\n",
    "print(f\"Top-1 Accuracy: {acc:.4f}\")\n",
    "print(f\"Top-3 Accuracy: {top3_acc:.4f}\")\n",
    "print(\"\\nClassification Report:\\n\", classification_report(y_test, y_pred, target_names=label_encoder.classes_))\n",
    "\n",
    "# Save model\n",
    "joblib.dump(rf, \"crop_rf_model.joblib\")\n",
    "print(\"✔ model saved as crop_rf_model.joblib\")\n",
    "\n",
    "# Function: predict top-3 crops from lat/lon\n",
    "def predict_top3(lat, lon, model, encoder):\n",
    "    X_new = np.array([[lat, lon]])\n",
    "    probs = model.predict_proba(X_new)[0]\n",
    "    top3_idx = np.argsort(probs)[-3:][::-1]\n",
    "    top3_crops = [(encoder.classes_[i], probs[i]) for i in top3_idx]\n",
    "    return top3_crops\n",
    "\n",
    "# Example usage\n",
    "example_lat, example_lon = X_test.iloc[0]\n",
    "print(\"\\nExample prediction for:\", (example_lat, example_lon))\n",
    "print(predict_top3(example_lat, example_lon, rf, label_encoder))\n"
   ]
  },
  {
   "cell_type": "code",
   "execution_count": null,
   "id": "1fd27580-bd74-4580-acf0-df8002270eb7",
   "metadata": {},
   "outputs": [],
   "source": []
  }
 ],
 "metadata": {
  "kernelspec": {
   "display_name": "Python 3 (ipykernel)",
   "language": "python",
   "name": "python3"
  },
  "language_info": {
   "codemirror_mode": {
    "name": "ipython",
    "version": 3
   },
   "file_extension": ".py",
   "mimetype": "text/x-python",
   "name": "python",
   "nbconvert_exporter": "python",
   "pygments_lexer": "ipython3",
   "version": "3.12.3"
  }
 },
 "nbformat": 4,
 "nbformat_minor": 5
}
